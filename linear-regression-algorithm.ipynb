{
 "cells": [
  {
   "cell_type": "code",
   "execution_count": 1,
   "metadata": {},
   "outputs": [
    {
     "name": "stdout",
     "output_type": "stream",
     "text": [
      "0.30000000000000004\n",
      "1.7000000000000002\n",
      "4.999999999999999\n"
     ]
    }
   ],
   "source": [
    "def get_y(m, b, x):\n",
    "  y = m*x + b\n",
    "  return y\n",
    "\n",
    "def calculate_error(m,b,point):\n",
    "    x_point, y_point = point\n",
    "    y = m*x_point + b\n",
    "    error = abs(y-y_point)\n",
    "    return error\n",
    "\n",
    "# test datapoints\n",
    "datapoints = [(1, 2), (2, 0), (3, 4), (4, 4), (5, 3)]\n",
    "\n",
    "def calculate_all_error(m,b,datapoints):\n",
    "    total_error = 0\n",
    "    for point in datapoints:\n",
    "        point_error = calculate_error(m,b,point)\n",
    "        total_error += point_error\n",
    "    return total_error\n",
    "\n",
    "\n",
    "possible_ms = [m*0.1 for m in range(-100,100)]\n",
    "possible_bs = [b*0.1 for b in range(-200,200)]\n",
    "\n",
    "\n",
    "smallest_error = float(\"Inf\")\n",
    "best_m = 0\n",
    "best_b = 0\n",
    "\n",
    "for m in possible_ms:\n",
    "    for b in possible_bs:\n",
    "        total_error = calculate_all_error(m,b,datapoints)\n",
    "        if total_error < smallest_error:\n",
    "            best_m = m\n",
    "            best_b = b\n",
    "            smallest_error = total_error\n",
    "\n",
    "print(best_m)\n",
    "print(best_b)\n",
    "print(smallest_error)"
   ]
  }
 ],
 "metadata": {
  "kernelspec": {
   "display_name": "Python 3",
   "language": "python",
   "name": "python3"
  },
  "language_info": {
   "codemirror_mode": {
    "name": "ipython",
    "version": 3
   },
   "file_extension": ".py",
   "mimetype": "text/x-python",
   "name": "python",
   "nbconvert_exporter": "python",
   "pygments_lexer": "ipython3",
   "version": "3.5.3"
  }
 },
 "nbformat": 4,
 "nbformat_minor": 2
}

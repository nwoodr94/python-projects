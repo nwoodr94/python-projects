{
 "cells": [
  {
   "cell_type": "code",
   "execution_count": 4,
   "metadata": {},
   "outputs": [
    {
     "name": "stdout",
     "output_type": "stream",
     "text": [
      "0.30000000000000004\n",
      "1.7000000000000002\n",
      "4.999999999999999\n"
     ]
    }
   ],
   "source": [
    "#\n",
    "# In this project we are to determine the height at which a rubber ball will bounce, provided \n",
    "# the measurement of its radius, by method of linear regression in pure python.\n",
    "#\n",
    "\n",
    "# First compute y=mx+b\n",
    "def get_y(m, b, x):\n",
    "  y = m*x + b\n",
    "  return y\n",
    "\n",
    "# For a given datapoint, we will need to measure the error between our expected value and the\n",
    "# actual value\n",
    "def calculate_error(m,b,point):\n",
    "    x_point, y_point = point\n",
    "    y = m*x_point + b\n",
    "    error = abs(y-y_point)\n",
    "    return error\n",
    "\n",
    "# A list of datapoints are provided. The x-value represents the rubber ball radius, and the\n",
    "# y-value represents the height at which it will bounce from some initial condition.\n",
    "datapoints = [(1, 2), (2, 0), (3, 4), (4, 4), (5, 3)]\n",
    "\n",
    "# To fit a line to a list of datapoints, we will need to minimize the total error.\n",
    "def calculate_all_error(m,b,datapoints):\n",
    "    total_error = 0\n",
    "    for point in datapoints:\n",
    "        point_error = calculate_error(m,b,point)\n",
    "        total_error += point_error\n",
    "    return total_error\n",
    "\n",
    "# We can use a list comprehension to discretize a range of fit parameters which will easily span\n",
    "# the dataset. \n",
    "possible_ms = [m*0.1 for m in range(-100,100)]\n",
    "possible_bs = [b*0.1 for b in range(-200,200)]\n",
    "\n",
    "# Here we define initial conditions for minimizing the total error in a line of best fit\n",
    "smallest_error = float(\"Inf\")\n",
    "best_m = 0\n",
    "best_b = 0\n",
    "\n",
    "# Write a nested for loop which loops through every combination of values from the list\n",
    "# comprehensions of possible 'm' and 'b' values, and calculates the total error associated with \n",
    "# each pair.\n",
    "# If the total error in one pair is smaller than the smallest_error previously recorded, we \n",
    "# reassign best_m and best_b to the corresponding 'm' and 'b'\n",
    "for m in possible_ms:\n",
    "    for b in possible_bs:\n",
    "        total_error = calculate_all_error(m,b,datapoints)\n",
    "        if total_error < smallest_error:\n",
    "            best_m = m\n",
    "            best_b = b\n",
    "            smallest_error = total_error\n",
    "\n",
    "# Print the best_m, best_b, and smallest_error\n",
    "print(best_m)\n",
    "print(best_b)\n",
    "print(smallest_error)\n",
    "\n",
    "# Prints the following results\n",
    "# m = 0.30\n",
    "# b = 1.70\n",
    "# smallest_error = 5.0"
   ]
  }
 ],
 "metadata": {
  "kernelspec": {
   "display_name": "Python 3",
   "language": "python",
   "name": "python3"
  },
  "language_info": {
   "codemirror_mode": {
    "name": "ipython",
    "version": 3
   },
   "file_extension": ".py",
   "mimetype": "text/x-python",
   "name": "python",
   "nbconvert_exporter": "python",
   "pygments_lexer": "ipython3",
   "version": "3.5.3"
  }
 },
 "nbformat": 4,
 "nbformat_minor": 2
}

{
 "cells": [
  {
   "cell_type": "code",
   "execution_count": 10,
   "metadata": {},
   "outputs": [
    {
     "name": "stdout",
     "output_type": "stream",
     "text": [
      "(This string has even parenthesis)\n",
      "Even Parenthesis!\n",
      "(((This string has uneven parenthesis))\n",
      "Uneven Parenthesis!\n"
     ]
    }
   ],
   "source": [
    "string_good = \"(This string has even parenthesis)\"\n",
    "string_bad = \"(((This string has uneven parenthesis))\"\n",
    "\n",
    "\n",
    "def parenthesis_checker(string):\n",
    "\n",
    "    left_paren = 0\n",
    "    right_paren = 0\n",
    "\n",
    "    for i in range(len(string)):\n",
    "        if string[i] == \"(\":\n",
    "            left_paren += 1\n",
    "        elif string[i] == \")\":\n",
    "            right_paren += 1\n",
    "    \n",
    "    if left_paren != right_paren:\n",
    "        print(\"Uneven Parenthesis!\")\n",
    "    else:\n",
    "        print(\"Even Parenthesis!\")\n",
    "\n",
    "\n",
    "print(string_good)\n",
    "parenthesis_checker(string_good)\n",
    "\n",
    "print(string_bad)\n",
    "parenthesis_checker(string_bad)"
   ]
  }
 ],
 "metadata": {
  "kernelspec": {
   "display_name": "Python 3",
   "language": "python",
   "name": "python3"
  },
  "language_info": {
   "codemirror_mode": {
    "name": "ipython",
    "version": 3
   },
   "file_extension": ".py",
   "mimetype": "text/x-python",
   "name": "python",
   "nbconvert_exporter": "python",
   "pygments_lexer": "ipython3",
   "version": "3.5.3"
  }
 },
 "nbformat": 4,
 "nbformat_minor": 2
}

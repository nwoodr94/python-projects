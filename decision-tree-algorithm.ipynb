{
 "cells": [
  {
   "cell_type": "code",
   "execution_count": 29,
   "metadata": {},
   "outputs": [
    {
     "ename": "NameError",
     "evalue": "name 'dataset' is not defined",
     "output_type": "error",
     "traceback": [
      "\u001b[0;31m---------------------------------------------------------------------------\u001b[0m",
      "\u001b[0;31mNameError\u001b[0m                                 Traceback (most recent call last)",
      "\u001b[0;32mcell_name\u001b[0m in \u001b[0;36masync-def-wrapper\u001b[0;34m()\u001b[0m\n",
      "\u001b[0;31mNameError\u001b[0m: name 'dataset' is not defined"
     ]
    }
   ],
   "source": [
    "from collections import Counter\n",
    "\n",
    "def gini(dataset):\n",
    "    impurity = 1\n",
    "    label_counts = Counter(dataset)\n",
    "    for label in label_counts:\n",
    "        prob_of_label = label_counts[label] / len(dataset)\n",
    "        impurity -= prob_of_label ** 2\n",
    "    return impurity\n",
    "\n",
    "def information_gain(starting_labels, split_labels):\n",
    "    info_gain = gini(starting_labels)\n",
    "    for subset in split_labels:\n",
    "        info_gain -= gini(subset) * len(subset) / len(starting_labels)\n",
    "    return info_gain\n",
    "\n",
    "for i in range(6):\n",
    "    split_data, split_labels = split(dataset, labels, i)\n",
    "\n",
    "def find_best_split(dataset, labels):\n",
    "    best_gain = 0\n",
    "    best_feature = 0\n",
    "    for feature in range(len(dataset[0])):\n",
    "        data_subsets, label_subsets = split(dataset, labels, feature)\n",
    "        gain = information_gain(labels, label_subsets)\n",
    "        if gain > best_gain:\n",
    "            best_gain, best_feature = gain, feature\n",
    "    return best_feature, best_gain\n",
    "\n",
    "def build_tree(dataset, labels):\n",
    "    best_feature, best_gain = find_best_split(dataset, labels)\n",
    "    if best_gain == 0:\n",
    "        return Counter(labels)\n",
    "\n",
    "data_subsets, label_subsets = split(dataset, labels, best_feature)\n",
    "\n",
    "branches = []\n",
    "for i in range(len(data_subsets)):\n",
    "    branch = build_tree(data_subsets[i], label_subsets[i])\n",
    "    branches.append(branch)\n",
    "    return branches"
   ]
  }
 ],
 "metadata": {
  "kernelspec": {
   "display_name": "Python 3",
   "language": "python",
   "name": "python3"
  },
  "language_info": {
   "codemirror_mode": {
    "name": "ipython",
    "version": 3
   },
   "file_extension": ".py",
   "mimetype": "text/x-python",
   "name": "python",
   "nbconvert_exporter": "python",
   "pygments_lexer": "ipython3",
   "version": "3.5.3"
  }
 },
 "nbformat": 4,
 "nbformat_minor": 2
}

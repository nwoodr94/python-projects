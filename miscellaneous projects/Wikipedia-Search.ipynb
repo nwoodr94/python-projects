{
 "cells": [
  {
   "cell_type": "code",
   "execution_count": 282,
   "metadata": {},
   "outputs": [],
   "source": [
    "import pandas as pd\n",
    "import requests\n",
    "import json\n",
    "import string\n",
    "\n",
    "# initialize requests session\n",
    "s = requests.Session()\n",
    "\n",
    "# define request url as wikipedia api \n",
    "url = \"https://en.wikipedia.org/w/api.php\"\n",
    "\n",
    "def Wikipedia(title):\n",
    "    # select wikipedia page to query\n",
    "    print(\"What is it?\")\n",
    "    print(\"Enter anything, and Wikipedia will tell you what it is\")\n",
    "    print(\" \")\n",
    "\n",
    "    title = input()\n",
    "    # wikipedia api requires case sensitive queries for every term\n",
    "    title = string.capwords(title)\n",
    "    \n",
    "    # define wikipedia api parameters\n",
    "    params = {\n",
    "        'action': \"query\", # query wikipedia\n",
    "        'titles': title, # query this page\n",
    "        'format': \"json\", # choose format\n",
    "        'formatversion': \"2\", # format the json so a human can read it\n",
    "        'prop': \"description\", # pull description from page\n",
    "        'redirects': \"True\" # resolves redirect cases\n",
    "            }\n",
    "\n",
    "    # load response into variable\n",
    "    r = s.get(url=url, params=params)\n",
    "    data = r.json() # returns a nested dictionary\n",
    "    \n",
    "    # unpack nested dictionary 1/2 \n",
    "    df = pd.DataFrame.from_dict(data)\n",
    "    query = df['query'][0]\n",
    "    \n",
    "    # unpack nested dictionary 2/2\n",
    "    df = pd.DataFrame(query)\n",
    "    description = df.iloc[0,0]\n",
    "    print(\" \")\n",
    "    \n",
    "    # if page does not exist, the above index returns a boolean indicating 'missing'\n",
    "    missing_page = 0\n",
    "    if description == True:\n",
    "        missing_page = description\n",
    "    \n",
    "    # if result is ambiguous, has several redirects\n",
    "    if description == \"Disambiguation page providing links to topics that could be referred to by the same search term\":     \n",
    "        print(\"This query is ambiguous\")\n",
    "        print(\" \")\n",
    "        print(\"Take a look:\")\n",
    "        print(\"https://en.wikipedia.org/wiki/%s\" %(title))\n",
    "    # if page doesn't exist\n",
    "    elif missing_page == True:\n",
    "        print(\"I don't know what that is\")\n",
    "    # print result\n",
    "    else: \n",
    "        print(description)"
   ]
  },
  {
   "cell_type": "code",
   "execution_count": 264,
   "metadata": {},
   "outputs": [
    {
     "name": "stdout",
     "output_type": "stream",
     "text": [
      "What is it?\n",
      "Enter anything, and Wikipedia will tell you what it is\n",
      " \n",
      "wikipedia\n",
      " \n",
      "Free online encyclopedia that anyone can edit\n"
     ]
    }
   ],
   "source": [
    "Wikipedia(title)"
   ]
  },
  {
   "cell_type": "code",
   "execution_count": 284,
   "metadata": {},
   "outputs": [
    {
     "name": "stdout",
     "output_type": "stream",
     "text": [
      "What is it?\n",
      "Enter anything, and Wikipedia will tell you what it is\n",
      " \n",
      "austin, tx\n",
      " \n",
      "State capital city in Texas, United States\n"
     ]
    }
   ],
   "source": [
    "Wikipedia(title)"
   ]
  },
  {
   "cell_type": "code",
   "execution_count": 273,
   "metadata": {},
   "outputs": [
    {
     "name": "stdout",
     "output_type": "stream",
     "text": [
      "What is it?\n",
      "Enter anything, and Wikipedia will tell you what it is\n",
      " \n",
      "IBM\n",
      " \n",
      "American multinational technology and consulting corporation\n"
     ]
    }
   ],
   "source": [
    "Wikipedia(title)"
   ]
  },
  {
   "cell_type": "code",
   "execution_count": 271,
   "metadata": {},
   "outputs": [
    {
     "name": "stdout",
     "output_type": "stream",
     "text": [
      "What is it?\n",
      "Enter anything, and Wikipedia will tell you what it is\n",
      " \n",
      "key\n",
      " \n",
      "This query is ambiguous\n",
      " \n",
      "Take a look:\n",
      "https://en.wikipedia.org/wiki/Key\n"
     ]
    }
   ],
   "source": [
    "Wikipedia(title)"
   ]
  },
  {
   "cell_type": "code",
   "execution_count": 269,
   "metadata": {},
   "outputs": [
    {
     "name": "stdout",
     "output_type": "stream",
     "text": [
      "What is it?\n",
      "Enter anything, and Wikipedia will tell you what it is\n",
      " \n",
      "nejdolcpqjkdmejd\n",
      " \n",
      "I don't know what that is\n"
     ]
    }
   ],
   "source": [
    "Wikipedia(title)"
   ]
  }
 ],
 "metadata": {
  "kernelspec": {
   "display_name": "Python 3",
   "language": "python",
   "name": "python3"
  }
 },
 "nbformat": 4,
 "nbformat_minor": 2
}

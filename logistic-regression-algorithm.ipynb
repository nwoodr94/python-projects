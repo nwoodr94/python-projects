{
 "cells": [
  {
   "cell_type": "code",
   "execution_count": null,
   "metadata": {},
   "outputs": [],
   "source": [
    "import numpy as np\n",
    "\n",
    "def log_odds(features, coefficients, intercept):\n",
    "    return np.dot(features,coefficients) + intercept\n",
    "\n",
    "def sigmoid(z):\n",
    "    denominator = 1 + np.exp(-z)\n",
    "    return 1/denominator\n",
    "\n",
    "def predict(features, coefficients, intercept, threshold):\n",
    "    calculated_log_odds = log_odds(features, coefficients,intercept)\n",
    "    probabilities = sigmoid(calculated_log_odds)\n",
    "    list_prob = np.where(probabilities >= threshold, 1, 0)\n",
    "    return list_prob"
   ]
  }
 ],
 "metadata": {
  "kernelspec": {
   "display_name": "Python 3",
   "language": "python",
   "name": "python3"
  },
  "language_info": {
   "codemirror_mode": {
    "name": "ipython",
    "version": 3
   },
   "file_extension": ".py",
   "mimetype": "text/x-python",
   "name": "python",
   "nbconvert_exporter": "python",
   "pygments_lexer": "ipython3",
   "version": "3.5.3"
  }
 },
 "nbformat": 4,
 "nbformat_minor": 2
}

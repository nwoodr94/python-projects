{
 "cells": [
  {
   "cell_type": "code",
   "execution_count": 7,
   "metadata": {},
   "outputs": [],
   "source": [
    "def euclidean_distance(pt1, pt2):\n",
    "    distance = 0\n",
    "    for i in range(len(pt1)):\n",
    "        distance += (pt1[i] - pt2[i]) ** 2\n",
    "    return distance ** 0.5\n",
    "\n",
    "def min_max_normalize(lst):\n",
    "    minimum = min(lst)\n",
    "    maximum = max(lst)\n",
    "    normalized = []\n",
    "    for i in lst:\n",
    "        normalized_i = (i - minimum)/(maximum - minimum)\n",
    "        normalized.append(normalized_i)\n",
    "    return normalized\n",
    "\n",
    "\n",
    "def classify(unlabeled_point, dataset, labels, k):\n",
    "    distances = []\n",
    "    for datapoint in dataset:    \n",
    "        distance_to_point = euclidean_distance(dataset[datapoint], unlabeled_point)\n",
    "        distances.append([distance_to_point, datapoint])\n",
    "    distances.sort()\n",
    "    neighbors = distances[0:k]\n",
    "    num_1 = 0\n",
    "    num_0 = 0\n",
    "    for neighbor in neighbors:\n",
    "        datapoint = neighbor[1]\n",
    "        if labels[datapoint] == 1:\n",
    "            num_1 += 1\n",
    "        elif labels[datapoint] == 0:\n",
    "            num_0 += 1\n",
    "    if num_1 > num_0:\n",
    "        return \"1\"\n",
    "    else:\n",
    "        return \"0\"\n",
    "\n",
    "def find_test_accuracy(training_set, training_labels, test_set, test_labels, k):\n",
    "    num_correct = 0.0\n",
    "    for i in test_set:\n",
    "        guess = classify(test_set[i], training_set, training_labels, k)\n",
    "        if guess == test_labels[i]:\n",
    "            num_correct += 1\n",
    "    return num_correct / len(test_set)\n",
    "\n",
    "\n",
    "def get_k_vector(k):\n",
    "    k_vals = []\n",
    "    for i in range(k):\n",
    "        k_vals = np.append(k_vals, find_test_accuracy(training_set, training_labels, test_set, test_labels, i))\n",
    "    return k_vals"
   ]
  }
 ],
 "metadata": {
  "kernelspec": {
   "display_name": "Python 3",
   "language": "python",
   "name": "python3"
  },
  "language_info": {
   "codemirror_mode": {
    "name": "ipython",
    "version": 3
   },
   "file_extension": ".py",
   "mimetype": "text/x-python",
   "name": "python",
   "nbconvert_exporter": "python",
   "pygments_lexer": "ipython3",
   "version": "3.5.3"
  }
 },
 "nbformat": 4,
 "nbformat_minor": 2
}
